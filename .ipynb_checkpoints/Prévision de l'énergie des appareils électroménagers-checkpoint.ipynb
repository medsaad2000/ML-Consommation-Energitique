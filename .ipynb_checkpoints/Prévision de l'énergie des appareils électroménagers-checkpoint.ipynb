{
 "cells": [
  {
   "cell_type": "markdown",
   "id": "ff4cdbe6",
   "metadata": {},
   "source": [
    "<div style=\"display:flex; justify-content:column;  text-align:center;\">\n",
    "    <img style=\"width:90px; height:130px; margin-top:30px;\" src=\"fst.jpg\" />\n",
    "    <h1 style=\"width:500px; font-size:34px; font-weight:400px; font-family:Serif; \">Faculté des Sciences et Techniques de Tanger Département Génie Informatique</h1>\n",
    "    <img style=\"width:120px; height:120px; margin-top:30px;\" src=\"uae.jpg\" />\n",
    "</div>"
   ]
  },
  {
   "cell_type": "markdown",
   "id": "d2d9b537",
   "metadata": {},
   "source": [
    "<div style=\"margin-top:60px\">\n",
    "    <h1 style=\"color:#1B9CFC; font-size:30px; text-align : center\">Mini-projet</h1>\n",
    "    <h1 style=\"color:#d63031; font-size:30px; text-align : center\">Réseaux de neurones artificiels</h1>\n",
    "</div>"
   ]
  },
  {
   "cell_type": "markdown",
   "id": "ed50bc8a",
   "metadata": {},
   "source": [
    "<div style=\"display:flex; justify-content:column;  text-align:center; margin-top:20px; margin-bottom:20px;\">\n",
    "    <div style=\"margin-right:550px; margin-left:70px\">\n",
    "        <h3 style=\"color:#1B9CFC;\">Encadré par : </h3>\n",
    "        <h4>Mr.AIT KBIR</h4>\n",
    "    </div>\n",
    "    <div >\n",
    "        <h3 style=\"color:#1B9CFC;\">Réalisé par : </h3>\n",
    "        <h4>AMMOR YAZID</h4>\n",
    "        <h4>MESKINI MOHAMED SAAD</h4>\n",
    "        <h4>EL ABDI ACHRAF</h4>\n",
    "    </div>    \n",
    "</div>   "
   ]
  },
  {
   "cell_type": "markdown",
   "id": "31a8f734",
   "metadata": {},
   "source": [
    "<div>\n",
    "    <h2 style=\"font-family:Serif; color:#d63031; font-size:27px; margin-bottom:0\">Introduction : </h2>\n",
    "        <p  style=\"font-family:Serif; font-size:17px;\">En cette période d'incertitude mondiale, le monde a besoin d'énergie et en quantités croissantes pour soutenir le progrès économique et social et construire une meilleure qualité de vie, en particulier dans les pays en développement. Mais même à l'heure actuelle, il existe de nombreux endroits, en particulier dans les pays en développement, où il y a des pannes. Ces pannes sont principalement dues à la charge excessive consommée par les appareils domestiques. Les appareils de chauffage et de refroidissement consomment le plus d'énergie dans la maison. Dans ce projet, nous analyserons l'utilisation des appareils dans la maison recueillie via des capteurs domestiques. Toutes les lectures sont prises à des intervalles de 10 minutes pendant 4,5 mois. L'objectif est de donner une approximation sur la consommation d'énergie des appareils</p>\n",
    "</div>"
   ]
  },
  {
   "cell_type": "markdown",
   "id": "e60b2c1f",
   "metadata": {},
   "source": [
    "<div>\n",
    "    <h2 style=\"font-family:Serif; color:#d63031; font-size:27px; margin-bottom:0\">But : </h2>\n",
    "        <p  style=\"font-family:Serif; font-size:17px;\">Développer une applications pour donner une approximation sur la consommation d'énergie des appareils maison à partir d’un ensemble de données de prévision\n",
    "énergétique des appareils électroménagers.</p>\n",
    "</div>"
   ]
  },
  {
   "cell_type": "markdown",
   "id": "345b43cd",
   "metadata": {},
   "source": [
    "<div>\n",
    "    <h2 style=\"font-family:Serif; color:##f39c12; font-size:27px; margin-bottom:0\">1 - L'importation des données </h2>\n",
    "        <p  style=\"font-family:Serif; font-size:17px;\">Dans un premier temps on importe les bibliothèques dont on aura besoin :</p>\n",
    "</div>"
   ]
  },
  {
   "cell_type": "code",
   "execution_count": 111,
   "id": "de36f637",
   "metadata": {},
   "outputs": [],
   "source": [
    "import pandas as pd\n",
    "import numpy as np\n",
    "import matplotlib.pyplot as plt\n",
    "import seaborn as sns\n",
    "%matplotlib inline"
   ]
  },
  {
   "cell_type": "code",
   "execution_count": 29,
   "id": "907ce7ec",
   "metadata": {},
   "outputs": [],
   "source": [
    "csvdata=pd.read_csv('energydata_complete.csv',parse_dates=['date'])"
   ]
  },
  {
   "cell_type": "code",
   "execution_count": 3,
   "id": "300ccfac",
   "metadata": {},
   "outputs": [
    {
     "data": {
      "text/html": [
       "<div>\n",
       "<style scoped>\n",
       "    .dataframe tbody tr th:only-of-type {\n",
       "        vertical-align: middle;\n",
       "    }\n",
       "\n",
       "    .dataframe tbody tr th {\n",
       "        vertical-align: top;\n",
       "    }\n",
       "\n",
       "    .dataframe thead th {\n",
       "        text-align: right;\n",
       "    }\n",
       "</style>\n",
       "<table border=\"1\" class=\"dataframe\">\n",
       "  <thead>\n",
       "    <tr style=\"text-align: right;\">\n",
       "      <th></th>\n",
       "      <th>date</th>\n",
       "      <th>Appliances</th>\n",
       "      <th>lights</th>\n",
       "      <th>T1</th>\n",
       "      <th>RH_1</th>\n",
       "      <th>T2</th>\n",
       "      <th>RH_2</th>\n",
       "      <th>T3</th>\n",
       "      <th>RH_3</th>\n",
       "      <th>T4</th>\n",
       "      <th>...</th>\n",
       "      <th>T9</th>\n",
       "      <th>RH_9</th>\n",
       "      <th>T_out</th>\n",
       "      <th>Press_mm_hg</th>\n",
       "      <th>RH_out</th>\n",
       "      <th>Windspeed</th>\n",
       "      <th>Visibility</th>\n",
       "      <th>Tdewpoint</th>\n",
       "      <th>rv1</th>\n",
       "      <th>rv2</th>\n",
       "    </tr>\n",
       "  </thead>\n",
       "  <tbody>\n",
       "    <tr>\n",
       "      <th>0</th>\n",
       "      <td>2016-01-11 17:00:00</td>\n",
       "      <td>60</td>\n",
       "      <td>30</td>\n",
       "      <td>19.89</td>\n",
       "      <td>47.596667</td>\n",
       "      <td>19.2</td>\n",
       "      <td>44.790000</td>\n",
       "      <td>19.79</td>\n",
       "      <td>44.730000</td>\n",
       "      <td>19.000000</td>\n",
       "      <td>...</td>\n",
       "      <td>17.033333</td>\n",
       "      <td>45.53</td>\n",
       "      <td>6.600000</td>\n",
       "      <td>733.5</td>\n",
       "      <td>92.0</td>\n",
       "      <td>7.000000</td>\n",
       "      <td>63.000000</td>\n",
       "      <td>5.3</td>\n",
       "      <td>13.275433</td>\n",
       "      <td>13.275433</td>\n",
       "    </tr>\n",
       "    <tr>\n",
       "      <th>1</th>\n",
       "      <td>2016-01-11 17:10:00</td>\n",
       "      <td>60</td>\n",
       "      <td>30</td>\n",
       "      <td>19.89</td>\n",
       "      <td>46.693333</td>\n",
       "      <td>19.2</td>\n",
       "      <td>44.722500</td>\n",
       "      <td>19.79</td>\n",
       "      <td>44.790000</td>\n",
       "      <td>19.000000</td>\n",
       "      <td>...</td>\n",
       "      <td>17.066667</td>\n",
       "      <td>45.56</td>\n",
       "      <td>6.483333</td>\n",
       "      <td>733.6</td>\n",
       "      <td>92.0</td>\n",
       "      <td>6.666667</td>\n",
       "      <td>59.166667</td>\n",
       "      <td>5.2</td>\n",
       "      <td>18.606195</td>\n",
       "      <td>18.606195</td>\n",
       "    </tr>\n",
       "    <tr>\n",
       "      <th>2</th>\n",
       "      <td>2016-01-11 17:20:00</td>\n",
       "      <td>50</td>\n",
       "      <td>30</td>\n",
       "      <td>19.89</td>\n",
       "      <td>46.300000</td>\n",
       "      <td>19.2</td>\n",
       "      <td>44.626667</td>\n",
       "      <td>19.79</td>\n",
       "      <td>44.933333</td>\n",
       "      <td>18.926667</td>\n",
       "      <td>...</td>\n",
       "      <td>17.000000</td>\n",
       "      <td>45.50</td>\n",
       "      <td>6.366667</td>\n",
       "      <td>733.7</td>\n",
       "      <td>92.0</td>\n",
       "      <td>6.333333</td>\n",
       "      <td>55.333333</td>\n",
       "      <td>5.1</td>\n",
       "      <td>28.642668</td>\n",
       "      <td>28.642668</td>\n",
       "    </tr>\n",
       "    <tr>\n",
       "      <th>3</th>\n",
       "      <td>2016-01-11 17:30:00</td>\n",
       "      <td>50</td>\n",
       "      <td>40</td>\n",
       "      <td>19.89</td>\n",
       "      <td>46.066667</td>\n",
       "      <td>19.2</td>\n",
       "      <td>44.590000</td>\n",
       "      <td>19.79</td>\n",
       "      <td>45.000000</td>\n",
       "      <td>18.890000</td>\n",
       "      <td>...</td>\n",
       "      <td>17.000000</td>\n",
       "      <td>45.40</td>\n",
       "      <td>6.250000</td>\n",
       "      <td>733.8</td>\n",
       "      <td>92.0</td>\n",
       "      <td>6.000000</td>\n",
       "      <td>51.500000</td>\n",
       "      <td>5.0</td>\n",
       "      <td>45.410389</td>\n",
       "      <td>45.410389</td>\n",
       "    </tr>\n",
       "    <tr>\n",
       "      <th>4</th>\n",
       "      <td>2016-01-11 17:40:00</td>\n",
       "      <td>60</td>\n",
       "      <td>40</td>\n",
       "      <td>19.89</td>\n",
       "      <td>46.333333</td>\n",
       "      <td>19.2</td>\n",
       "      <td>44.530000</td>\n",
       "      <td>19.79</td>\n",
       "      <td>45.000000</td>\n",
       "      <td>18.890000</td>\n",
       "      <td>...</td>\n",
       "      <td>17.000000</td>\n",
       "      <td>45.40</td>\n",
       "      <td>6.133333</td>\n",
       "      <td>733.9</td>\n",
       "      <td>92.0</td>\n",
       "      <td>5.666667</td>\n",
       "      <td>47.666667</td>\n",
       "      <td>4.9</td>\n",
       "      <td>10.084097</td>\n",
       "      <td>10.084097</td>\n",
       "    </tr>\n",
       "  </tbody>\n",
       "</table>\n",
       "<p>5 rows × 29 columns</p>\n",
       "</div>"
      ],
      "text/plain": [
       "                 date  Appliances  lights     T1       RH_1    T2       RH_2  \\\n",
       "0 2016-01-11 17:00:00          60      30  19.89  47.596667  19.2  44.790000   \n",
       "1 2016-01-11 17:10:00          60      30  19.89  46.693333  19.2  44.722500   \n",
       "2 2016-01-11 17:20:00          50      30  19.89  46.300000  19.2  44.626667   \n",
       "3 2016-01-11 17:30:00          50      40  19.89  46.066667  19.2  44.590000   \n",
       "4 2016-01-11 17:40:00          60      40  19.89  46.333333  19.2  44.530000   \n",
       "\n",
       "      T3       RH_3         T4  ...         T9   RH_9     T_out  Press_mm_hg  \\\n",
       "0  19.79  44.730000  19.000000  ...  17.033333  45.53  6.600000        733.5   \n",
       "1  19.79  44.790000  19.000000  ...  17.066667  45.56  6.483333        733.6   \n",
       "2  19.79  44.933333  18.926667  ...  17.000000  45.50  6.366667        733.7   \n",
       "3  19.79  45.000000  18.890000  ...  17.000000  45.40  6.250000        733.8   \n",
       "4  19.79  45.000000  18.890000  ...  17.000000  45.40  6.133333        733.9   \n",
       "\n",
       "   RH_out  Windspeed  Visibility  Tdewpoint        rv1        rv2  \n",
       "0    92.0   7.000000   63.000000        5.3  13.275433  13.275433  \n",
       "1    92.0   6.666667   59.166667        5.2  18.606195  18.606195  \n",
       "2    92.0   6.333333   55.333333        5.1  28.642668  28.642668  \n",
       "3    92.0   6.000000   51.500000        5.0  45.410389  45.410389  \n",
       "4    92.0   5.666667   47.666667        4.9  10.084097  10.084097  \n",
       "\n",
       "[5 rows x 29 columns]"
      ]
     },
     "execution_count": 3,
     "metadata": {},
     "output_type": "execute_result"
    }
   ],
   "source": [
    "csvdata.head()"
   ]
  },
  {
   "cell_type": "code",
   "execution_count": 4,
   "id": "83237e13",
   "metadata": {},
   "outputs": [
    {
     "data": {
      "text/plain": [
       "(19735, 29)"
      ]
     },
     "execution_count": 4,
     "metadata": {},
     "output_type": "execute_result"
    }
   ],
   "source": [
    "csvdata.shape   #pour savoir le nombre total de ligne et colonne"
   ]
  },
  {
   "cell_type": "code",
   "execution_count": 5,
   "id": "6397bba6",
   "metadata": {},
   "outputs": [
    {
     "name": "stdout",
     "output_type": "stream",
     "text": [
      "<class 'pandas.core.frame.DataFrame'>\n",
      "RangeIndex: 19735 entries, 0 to 19734\n",
      "Data columns (total 29 columns):\n",
      " #   Column       Non-Null Count  Dtype         \n",
      "---  ------       --------------  -----         \n",
      " 0   date         19735 non-null  datetime64[ns]\n",
      " 1   Appliances   19735 non-null  int64         \n",
      " 2   lights       19735 non-null  int64         \n",
      " 3   T1           19735 non-null  float64       \n",
      " 4   RH_1         19735 non-null  float64       \n",
      " 5   T2           19735 non-null  float64       \n",
      " 6   RH_2         19735 non-null  float64       \n",
      " 7   T3           19735 non-null  float64       \n",
      " 8   RH_3         19735 non-null  float64       \n",
      " 9   T4           19735 non-null  float64       \n",
      " 10  RH_4         19735 non-null  float64       \n",
      " 11  T5           19735 non-null  float64       \n",
      " 12  RH_5         19735 non-null  float64       \n",
      " 13  T6           19735 non-null  float64       \n",
      " 14  RH_6         19735 non-null  float64       \n",
      " 15  T7           19735 non-null  float64       \n",
      " 16  RH_7         19735 non-null  float64       \n",
      " 17  T8           19735 non-null  float64       \n",
      " 18  RH_8         19735 non-null  float64       \n",
      " 19  T9           19735 non-null  float64       \n",
      " 20  RH_9         19735 non-null  float64       \n",
      " 21  T_out        19735 non-null  float64       \n",
      " 22  Press_mm_hg  19735 non-null  float64       \n",
      " 23  RH_out       19735 non-null  float64       \n",
      " 24  Windspeed    19735 non-null  float64       \n",
      " 25  Visibility   19735 non-null  float64       \n",
      " 26  Tdewpoint    19735 non-null  float64       \n",
      " 27  rv1          19735 non-null  float64       \n",
      " 28  rv2          19735 non-null  float64       \n",
      "dtypes: datetime64[ns](1), float64(26), int64(2)\n",
      "memory usage: 4.4 MB\n"
     ]
    }
   ],
   "source": [
    "csvdata.info()    #pour verifier l'absence des valeurs null"
   ]
  },
  {
   "cell_type": "code",
   "execution_count": 6,
   "id": "b8e319c6",
   "metadata": {
    "scrolled": true
   },
   "outputs": [
    {
     "data": {
      "text/html": [
       "<div>\n",
       "<style scoped>\n",
       "    .dataframe tbody tr th:only-of-type {\n",
       "        vertical-align: middle;\n",
       "    }\n",
       "\n",
       "    .dataframe tbody tr th {\n",
       "        vertical-align: top;\n",
       "    }\n",
       "\n",
       "    .dataframe thead th {\n",
       "        text-align: right;\n",
       "    }\n",
       "</style>\n",
       "<table border=\"1\" class=\"dataframe\">\n",
       "  <thead>\n",
       "    <tr style=\"text-align: right;\">\n",
       "      <th></th>\n",
       "      <th>Appliances</th>\n",
       "      <th>lights</th>\n",
       "      <th>T1</th>\n",
       "      <th>RH_1</th>\n",
       "      <th>T2</th>\n",
       "      <th>RH_2</th>\n",
       "      <th>T3</th>\n",
       "      <th>RH_3</th>\n",
       "      <th>T4</th>\n",
       "      <th>RH_4</th>\n",
       "      <th>...</th>\n",
       "      <th>T9</th>\n",
       "      <th>RH_9</th>\n",
       "      <th>T_out</th>\n",
       "      <th>Press_mm_hg</th>\n",
       "      <th>RH_out</th>\n",
       "      <th>Windspeed</th>\n",
       "      <th>Visibility</th>\n",
       "      <th>Tdewpoint</th>\n",
       "      <th>rv1</th>\n",
       "      <th>rv2</th>\n",
       "    </tr>\n",
       "  </thead>\n",
       "  <tbody>\n",
       "    <tr>\n",
       "      <th>count</th>\n",
       "      <td>19735.000000</td>\n",
       "      <td>19735.000000</td>\n",
       "      <td>19735.000000</td>\n",
       "      <td>19735.000000</td>\n",
       "      <td>19735.000000</td>\n",
       "      <td>19735.000000</td>\n",
       "      <td>19735.000000</td>\n",
       "      <td>19735.000000</td>\n",
       "      <td>19735.000000</td>\n",
       "      <td>19735.000000</td>\n",
       "      <td>...</td>\n",
       "      <td>19735.000000</td>\n",
       "      <td>19735.000000</td>\n",
       "      <td>19735.000000</td>\n",
       "      <td>19735.000000</td>\n",
       "      <td>19735.000000</td>\n",
       "      <td>19735.000000</td>\n",
       "      <td>19735.000000</td>\n",
       "      <td>19735.000000</td>\n",
       "      <td>19735.000000</td>\n",
       "      <td>19735.000000</td>\n",
       "    </tr>\n",
       "    <tr>\n",
       "      <th>mean</th>\n",
       "      <td>97.694958</td>\n",
       "      <td>3.801875</td>\n",
       "      <td>21.686571</td>\n",
       "      <td>40.259739</td>\n",
       "      <td>20.341219</td>\n",
       "      <td>40.420420</td>\n",
       "      <td>22.267611</td>\n",
       "      <td>39.242500</td>\n",
       "      <td>20.855335</td>\n",
       "      <td>39.026904</td>\n",
       "      <td>...</td>\n",
       "      <td>19.485828</td>\n",
       "      <td>41.552401</td>\n",
       "      <td>7.411665</td>\n",
       "      <td>755.522602</td>\n",
       "      <td>79.750418</td>\n",
       "      <td>4.039752</td>\n",
       "      <td>38.330834</td>\n",
       "      <td>3.760707</td>\n",
       "      <td>24.988033</td>\n",
       "      <td>24.988033</td>\n",
       "    </tr>\n",
       "    <tr>\n",
       "      <th>std</th>\n",
       "      <td>102.524891</td>\n",
       "      <td>7.935988</td>\n",
       "      <td>1.606066</td>\n",
       "      <td>3.979299</td>\n",
       "      <td>2.192974</td>\n",
       "      <td>4.069813</td>\n",
       "      <td>2.006111</td>\n",
       "      <td>3.254576</td>\n",
       "      <td>2.042884</td>\n",
       "      <td>4.341321</td>\n",
       "      <td>...</td>\n",
       "      <td>2.014712</td>\n",
       "      <td>4.151497</td>\n",
       "      <td>5.317409</td>\n",
       "      <td>7.399441</td>\n",
       "      <td>14.901088</td>\n",
       "      <td>2.451221</td>\n",
       "      <td>11.794719</td>\n",
       "      <td>4.194648</td>\n",
       "      <td>14.496634</td>\n",
       "      <td>14.496634</td>\n",
       "    </tr>\n",
       "    <tr>\n",
       "      <th>min</th>\n",
       "      <td>10.000000</td>\n",
       "      <td>0.000000</td>\n",
       "      <td>16.790000</td>\n",
       "      <td>27.023333</td>\n",
       "      <td>16.100000</td>\n",
       "      <td>20.463333</td>\n",
       "      <td>17.200000</td>\n",
       "      <td>28.766667</td>\n",
       "      <td>15.100000</td>\n",
       "      <td>27.660000</td>\n",
       "      <td>...</td>\n",
       "      <td>14.890000</td>\n",
       "      <td>29.166667</td>\n",
       "      <td>-5.000000</td>\n",
       "      <td>729.300000</td>\n",
       "      <td>24.000000</td>\n",
       "      <td>0.000000</td>\n",
       "      <td>1.000000</td>\n",
       "      <td>-6.600000</td>\n",
       "      <td>0.005322</td>\n",
       "      <td>0.005322</td>\n",
       "    </tr>\n",
       "    <tr>\n",
       "      <th>25%</th>\n",
       "      <td>50.000000</td>\n",
       "      <td>0.000000</td>\n",
       "      <td>20.760000</td>\n",
       "      <td>37.333333</td>\n",
       "      <td>18.790000</td>\n",
       "      <td>37.900000</td>\n",
       "      <td>20.790000</td>\n",
       "      <td>36.900000</td>\n",
       "      <td>19.530000</td>\n",
       "      <td>35.530000</td>\n",
       "      <td>...</td>\n",
       "      <td>18.000000</td>\n",
       "      <td>38.500000</td>\n",
       "      <td>3.666667</td>\n",
       "      <td>750.933333</td>\n",
       "      <td>70.333333</td>\n",
       "      <td>2.000000</td>\n",
       "      <td>29.000000</td>\n",
       "      <td>0.900000</td>\n",
       "      <td>12.497889</td>\n",
       "      <td>12.497889</td>\n",
       "    </tr>\n",
       "    <tr>\n",
       "      <th>50%</th>\n",
       "      <td>60.000000</td>\n",
       "      <td>0.000000</td>\n",
       "      <td>21.600000</td>\n",
       "      <td>39.656667</td>\n",
       "      <td>20.000000</td>\n",
       "      <td>40.500000</td>\n",
       "      <td>22.100000</td>\n",
       "      <td>38.530000</td>\n",
       "      <td>20.666667</td>\n",
       "      <td>38.400000</td>\n",
       "      <td>...</td>\n",
       "      <td>19.390000</td>\n",
       "      <td>40.900000</td>\n",
       "      <td>6.916667</td>\n",
       "      <td>756.100000</td>\n",
       "      <td>83.666667</td>\n",
       "      <td>3.666667</td>\n",
       "      <td>40.000000</td>\n",
       "      <td>3.433333</td>\n",
       "      <td>24.897653</td>\n",
       "      <td>24.897653</td>\n",
       "    </tr>\n",
       "    <tr>\n",
       "      <th>75%</th>\n",
       "      <td>100.000000</td>\n",
       "      <td>0.000000</td>\n",
       "      <td>22.600000</td>\n",
       "      <td>43.066667</td>\n",
       "      <td>21.500000</td>\n",
       "      <td>43.260000</td>\n",
       "      <td>23.290000</td>\n",
       "      <td>41.760000</td>\n",
       "      <td>22.100000</td>\n",
       "      <td>42.156667</td>\n",
       "      <td>...</td>\n",
       "      <td>20.600000</td>\n",
       "      <td>44.338095</td>\n",
       "      <td>10.408333</td>\n",
       "      <td>760.933333</td>\n",
       "      <td>91.666667</td>\n",
       "      <td>5.500000</td>\n",
       "      <td>40.000000</td>\n",
       "      <td>6.566667</td>\n",
       "      <td>37.583769</td>\n",
       "      <td>37.583769</td>\n",
       "    </tr>\n",
       "    <tr>\n",
       "      <th>max</th>\n",
       "      <td>1080.000000</td>\n",
       "      <td>70.000000</td>\n",
       "      <td>26.260000</td>\n",
       "      <td>63.360000</td>\n",
       "      <td>29.856667</td>\n",
       "      <td>56.026667</td>\n",
       "      <td>29.236000</td>\n",
       "      <td>50.163333</td>\n",
       "      <td>26.200000</td>\n",
       "      <td>51.090000</td>\n",
       "      <td>...</td>\n",
       "      <td>24.500000</td>\n",
       "      <td>53.326667</td>\n",
       "      <td>26.100000</td>\n",
       "      <td>772.300000</td>\n",
       "      <td>100.000000</td>\n",
       "      <td>14.000000</td>\n",
       "      <td>66.000000</td>\n",
       "      <td>15.500000</td>\n",
       "      <td>49.996530</td>\n",
       "      <td>49.996530</td>\n",
       "    </tr>\n",
       "  </tbody>\n",
       "</table>\n",
       "<p>8 rows × 28 columns</p>\n",
       "</div>"
      ],
      "text/plain": [
       "         Appliances        lights            T1          RH_1            T2  \\\n",
       "count  19735.000000  19735.000000  19735.000000  19735.000000  19735.000000   \n",
       "mean      97.694958      3.801875     21.686571     40.259739     20.341219   \n",
       "std      102.524891      7.935988      1.606066      3.979299      2.192974   \n",
       "min       10.000000      0.000000     16.790000     27.023333     16.100000   \n",
       "25%       50.000000      0.000000     20.760000     37.333333     18.790000   \n",
       "50%       60.000000      0.000000     21.600000     39.656667     20.000000   \n",
       "75%      100.000000      0.000000     22.600000     43.066667     21.500000   \n",
       "max     1080.000000     70.000000     26.260000     63.360000     29.856667   \n",
       "\n",
       "               RH_2            T3          RH_3            T4          RH_4  \\\n",
       "count  19735.000000  19735.000000  19735.000000  19735.000000  19735.000000   \n",
       "mean      40.420420     22.267611     39.242500     20.855335     39.026904   \n",
       "std        4.069813      2.006111      3.254576      2.042884      4.341321   \n",
       "min       20.463333     17.200000     28.766667     15.100000     27.660000   \n",
       "25%       37.900000     20.790000     36.900000     19.530000     35.530000   \n",
       "50%       40.500000     22.100000     38.530000     20.666667     38.400000   \n",
       "75%       43.260000     23.290000     41.760000     22.100000     42.156667   \n",
       "max       56.026667     29.236000     50.163333     26.200000     51.090000   \n",
       "\n",
       "       ...            T9          RH_9         T_out   Press_mm_hg  \\\n",
       "count  ...  19735.000000  19735.000000  19735.000000  19735.000000   \n",
       "mean   ...     19.485828     41.552401      7.411665    755.522602   \n",
       "std    ...      2.014712      4.151497      5.317409      7.399441   \n",
       "min    ...     14.890000     29.166667     -5.000000    729.300000   \n",
       "25%    ...     18.000000     38.500000      3.666667    750.933333   \n",
       "50%    ...     19.390000     40.900000      6.916667    756.100000   \n",
       "75%    ...     20.600000     44.338095     10.408333    760.933333   \n",
       "max    ...     24.500000     53.326667     26.100000    772.300000   \n",
       "\n",
       "             RH_out     Windspeed    Visibility     Tdewpoint           rv1  \\\n",
       "count  19735.000000  19735.000000  19735.000000  19735.000000  19735.000000   \n",
       "mean      79.750418      4.039752     38.330834      3.760707     24.988033   \n",
       "std       14.901088      2.451221     11.794719      4.194648     14.496634   \n",
       "min       24.000000      0.000000      1.000000     -6.600000      0.005322   \n",
       "25%       70.333333      2.000000     29.000000      0.900000     12.497889   \n",
       "50%       83.666667      3.666667     40.000000      3.433333     24.897653   \n",
       "75%       91.666667      5.500000     40.000000      6.566667     37.583769   \n",
       "max      100.000000     14.000000     66.000000     15.500000     49.996530   \n",
       "\n",
       "                rv2  \n",
       "count  19735.000000  \n",
       "mean      24.988033  \n",
       "std       14.496634  \n",
       "min        0.005322  \n",
       "25%       12.497889  \n",
       "50%       24.897653  \n",
       "75%       37.583769  \n",
       "max       49.996530  \n",
       "\n",
       "[8 rows x 28 columns]"
      ]
     },
     "execution_count": 6,
     "metadata": {},
     "output_type": "execute_result"
    }
   ],
   "source": [
    "# Description des colonnes (moyenne, min, max, ...)\n",
    "csvdata.describe()"
   ]
  },
  {
   "cell_type": "markdown",
   "id": "6e4fb527",
   "metadata": {},
   "source": [
    "<div>\n",
    "        <p  style=\"font-family:Serif; font-size:17px;\">L'ffichage du résumer statistique du Dataset. Avec :<br>\n",
    "            <b> ✓ count : </b> le nombre d’enregistrement dans la Data sets.<br>\n",
    " <b>✓ mean : </b> la moyenne de chaque colonne.<br>\n",
    " <b>✓ std : </b> l’écart-type de chaque colonne.<br>\n",
    " <b>✓ min : </b> la valeur minimale de chaque colonne.<br>\n",
    " <b>✓ 25% et 75% : </b> les interquartiles de chaque colonne.<br>\n",
    " <b>✓ max :  </b> la valeur maximale de chaque colonne.<br>\n",
    "</div>"
   ]
  },
  {
   "cell_type": "code",
   "execution_count": 10,
   "id": "82ce424d",
   "metadata": {},
   "outputs": [
    {
     "data": {
      "image/png": "[encoded data removed]",
      "text/plain": [
       "<Figure size 1440x936 with 30 Axes>"
      ]
     },
     "metadata": {
      "needs_background": "light"
     },
     "output_type": "display_data"
    }
   ],
   "source": [
    "#afficher l'histograme de notre dataset (chaque variable)\n",
    "%matplotlib inline\n",
    "csvdata.hist(bins=50, figsize=(20, 13))\n",
    "plt.savefig(\"attribute_histogram_plots\")\n",
    "plt.show()"
   ]
  },
  {
   "cell_type": "code",
   "execution_count": 30,
   "id": "5e0241fd",
   "metadata": {},
   "outputs": [],
   "source": [
    "#organiser l'affichage des donnes\n",
    "csvdata.columns=[x.lower() for x in csvdata.columns]\n",
    "csvdata=csvdata.set_index('date')"
   ]
  },
  {
   "cell_type": "code",
   "execution_count": 12,
   "id": "b4c81703",
   "metadata": {},
   "outputs": [
    {
     "data": {
      "text/html": [
       "<div>\n",
       "<style scoped>\n",
       "    .dataframe tbody tr th:only-of-type {\n",
       "        vertical-align: middle;\n",
       "    }\n",
       "\n",
       "    .dataframe tbody tr th {\n",
       "        vertical-align: top;\n",
       "    }\n",
       "\n",
       "    .dataframe thead th {\n",
       "        text-align: right;\n",
       "    }\n",
       "</style>\n",
       "<table border=\"1\" class=\"dataframe\">\n",
       "  <thead>\n",
       "    <tr style=\"text-align: right;\">\n",
       "      <th></th>\n",
       "      <th>appliances</th>\n",
       "      <th>lights</th>\n",
       "      <th>t1</th>\n",
       "      <th>rh_1</th>\n",
       "      <th>t2</th>\n",
       "      <th>rh_2</th>\n",
       "      <th>t3</th>\n",
       "      <th>rh_3</th>\n",
       "      <th>t4</th>\n",
       "      <th>rh_4</th>\n",
       "      <th>...</th>\n",
       "      <th>t9</th>\n",
       "      <th>rh_9</th>\n",
       "      <th>t_out</th>\n",
       "      <th>press_mm_hg</th>\n",
       "      <th>rh_out</th>\n",
       "      <th>windspeed</th>\n",
       "      <th>visibility</th>\n",
       "      <th>tdewpoint</th>\n",
       "      <th>rv1</th>\n",
       "      <th>rv2</th>\n",
       "    </tr>\n",
       "    <tr>\n",
       "      <th>date</th>\n",
       "      <th></th>\n",
       "      <th></th>\n",
       "      <th></th>\n",
       "      <th></th>\n",
       "      <th></th>\n",
       "      <th></th>\n",
       "      <th></th>\n",
       "      <th></th>\n",
       "      <th></th>\n",
       "      <th></th>\n",
       "      <th></th>\n",
       "      <th></th>\n",
       "      <th></th>\n",
       "      <th></th>\n",
       "      <th></th>\n",
       "      <th></th>\n",
       "      <th></th>\n",
       "      <th></th>\n",
       "      <th></th>\n",
       "      <th></th>\n",
       "      <th></th>\n",
       "    </tr>\n",
       "  </thead>\n",
       "  <tbody>\n",
       "    <tr>\n",
       "      <th>2016-01-16 18:50:00</th>\n",
       "      <td>1080</td>\n",
       "      <td>30</td>\n",
       "      <td>21.930000</td>\n",
       "      <td>42.766667</td>\n",
       "      <td>21.040000</td>\n",
       "      <td>38.080000</td>\n",
       "      <td>20.700000</td>\n",
       "      <td>40.633333</td>\n",
       "      <td>20.89</td>\n",
       "      <td>39.733333</td>\n",
       "      <td>...</td>\n",
       "      <td>17.79</td>\n",
       "      <td>40.672500</td>\n",
       "      <td>2.083333</td>\n",
       "      <td>765.033333</td>\n",
       "      <td>85.500000</td>\n",
       "      <td>3.666667</td>\n",
       "      <td>40.000000</td>\n",
       "      <td>-0.083333</td>\n",
       "      <td>27.408521</td>\n",
       "      <td>27.408521</td>\n",
       "    </tr>\n",
       "    <tr>\n",
       "      <th>2016-01-21 18:50:00</th>\n",
       "      <td>1070</td>\n",
       "      <td>30</td>\n",
       "      <td>19.600000</td>\n",
       "      <td>34.300000</td>\n",
       "      <td>18.426667</td>\n",
       "      <td>33.963333</td>\n",
       "      <td>18.390000</td>\n",
       "      <td>36.930000</td>\n",
       "      <td>17.70</td>\n",
       "      <td>35.400000</td>\n",
       "      <td>...</td>\n",
       "      <td>16.00</td>\n",
       "      <td>36.930000</td>\n",
       "      <td>-0.616667</td>\n",
       "      <td>764.533333</td>\n",
       "      <td>82.833333</td>\n",
       "      <td>1.000000</td>\n",
       "      <td>64.166667</td>\n",
       "      <td>-3.216667</td>\n",
       "      <td>11.735734</td>\n",
       "      <td>11.735734</td>\n",
       "    </tr>\n",
       "    <tr>\n",
       "      <th>2016-01-14 17:00:00</th>\n",
       "      <td>910</td>\n",
       "      <td>0</td>\n",
       "      <td>21.463333</td>\n",
       "      <td>41.693333</td>\n",
       "      <td>20.856667</td>\n",
       "      <td>38.363333</td>\n",
       "      <td>21.666667</td>\n",
       "      <td>43.930000</td>\n",
       "      <td>18.70</td>\n",
       "      <td>42.660000</td>\n",
       "      <td>...</td>\n",
       "      <td>17.00</td>\n",
       "      <td>43.466667</td>\n",
       "      <td>4.600000</td>\n",
       "      <td>747.900000</td>\n",
       "      <td>76.000000</td>\n",
       "      <td>7.000000</td>\n",
       "      <td>40.000000</td>\n",
       "      <td>0.700000</td>\n",
       "      <td>18.937972</td>\n",
       "      <td>18.937972</td>\n",
       "    </tr>\n",
       "    <tr>\n",
       "      <th>2016-04-04 15:40:00</th>\n",
       "      <td>900</td>\n",
       "      <td>0</td>\n",
       "      <td>23.000000</td>\n",
       "      <td>43.166667</td>\n",
       "      <td>22.200000</td>\n",
       "      <td>40.426667</td>\n",
       "      <td>26.100000</td>\n",
       "      <td>38.930000</td>\n",
       "      <td>21.60</td>\n",
       "      <td>41.526667</td>\n",
       "      <td>...</td>\n",
       "      <td>20.70</td>\n",
       "      <td>43.333333</td>\n",
       "      <td>14.766667</td>\n",
       "      <td>749.266667</td>\n",
       "      <td>59.666667</td>\n",
       "      <td>7.000000</td>\n",
       "      <td>40.000000</td>\n",
       "      <td>7.000000</td>\n",
       "      <td>15.105153</td>\n",
       "      <td>15.105153</td>\n",
       "    </tr>\n",
       "    <tr>\n",
       "      <th>2016-01-21 19:00:00</th>\n",
       "      <td>890</td>\n",
       "      <td>20</td>\n",
       "      <td>19.730000</td>\n",
       "      <td>37.863333</td>\n",
       "      <td>18.566667</td>\n",
       "      <td>34.090000</td>\n",
       "      <td>18.390000</td>\n",
       "      <td>36.863333</td>\n",
       "      <td>17.60</td>\n",
       "      <td>35.133333</td>\n",
       "      <td>...</td>\n",
       "      <td>16.00</td>\n",
       "      <td>36.730000</td>\n",
       "      <td>-0.800000</td>\n",
       "      <td>764.500000</td>\n",
       "      <td>84.000000</td>\n",
       "      <td>1.000000</td>\n",
       "      <td>64.000000</td>\n",
       "      <td>-3.200000</td>\n",
       "      <td>3.221583</td>\n",
       "      <td>3.221583</td>\n",
       "    </tr>\n",
       "  </tbody>\n",
       "</table>\n",
       "<p>5 rows × 28 columns</p>\n",
       "</div>"
      ],
      "text/plain": [
       "                     appliances  lights         t1       rh_1         t2  \\\n",
       "date                                                                       \n",
       "2016-01-16 18:50:00        1080      30  21.930000  42.766667  21.040000   \n",
       "2016-01-21 18:50:00        1070      30  19.600000  34.300000  18.426667   \n",
       "2016-01-14 17:00:00         910       0  21.463333  41.693333  20.856667   \n",
       "2016-04-04 15:40:00         900       0  23.000000  43.166667  22.200000   \n",
       "2016-01-21 19:00:00         890      20  19.730000  37.863333  18.566667   \n",
       "\n",
       "                          rh_2         t3       rh_3     t4       rh_4  ...  \\\n",
       "date                                                                    ...   \n",
       "2016-01-16 18:50:00  38.080000  20.700000  40.633333  20.89  39.733333  ...   \n",
       "2016-01-21 18:50:00  33.963333  18.390000  36.930000  17.70  35.400000  ...   \n",
       "2016-01-14 17:00:00  38.363333  21.666667  43.930000  18.70  42.660000  ...   \n",
       "2016-04-04 15:40:00  40.426667  26.100000  38.930000  21.60  41.526667  ...   \n",
       "2016-01-21 19:00:00  34.090000  18.390000  36.863333  17.60  35.133333  ...   \n",
       "\n",
       "                        t9       rh_9      t_out  press_mm_hg     rh_out  \\\n",
       "date                                                                       \n",
       "2016-01-16 18:50:00  17.79  40.672500   2.083333   765.033333  85.500000   \n",
       "2016-01-21 18:50:00  16.00  36.930000  -0.616667   764.533333  82.833333   \n",
       "2016-01-14 17:00:00  17.00  43.466667   4.600000   747.900000  76.000000   \n",
       "2016-04-04 15:40:00  20.70  43.333333  14.766667   749.266667  59.666667   \n",
       "2016-01-21 19:00:00  16.00  36.730000  -0.800000   764.500000  84.000000   \n",
       "\n",
       "                     windspeed  visibility  tdewpoint        rv1        rv2  \n",
       "date                                                                         \n",
       "2016-01-16 18:50:00   3.666667   40.000000  -0.083333  27.408521  27.408521  \n",
       "2016-01-21 18:50:00   1.000000   64.166667  -3.216667  11.735734  11.735734  \n",
       "2016-01-14 17:00:00   7.000000   40.000000   0.700000  18.937972  18.937972  \n",
       "2016-04-04 15:40:00   7.000000   40.000000   7.000000  15.105153  15.105153  \n",
       "2016-01-21 19:00:00   1.000000   64.000000  -3.200000   3.221583   3.221583  \n",
       "\n",
       "[5 rows x 28 columns]"
      ]
     },
     "execution_count": 12,
     "metadata": {},
     "output_type": "execute_result"
    }
   ],
   "source": [
    "#trier selon la consommation des appareils maison\n",
    "sorted_appliances =csvdata.sort_values('appliances',ascending=False)\n",
    "sorted_appliances.head()"
   ]
  },
  {
   "cell_type": "code",
   "execution_count": 13,
   "id": "43f5aba1",
   "metadata": {},
   "outputs": [
    {
     "data": {
      "text/plain": [
       "19"
      ]
     },
     "execution_count": 13,
     "metadata": {},
     "output_type": "execute_result"
    }
   ],
   "source": [
    "len(sorted_appliances.head(len(sorted_appliances)//1000))"
   ]
  },
  {
   "cell_type": "code",
   "execution_count": 14,
   "id": "19685ea1",
   "metadata": {},
   "outputs": [
    {
     "data": {
      "text/plain": [
       "790"
      ]
     },
     "execution_count": 14,
     "metadata": {},
     "output_type": "execute_result"
    }
   ],
   "source": [
    "sorted_appliances.appliances[19]"
   ]
  },
  {
   "cell_type": "code",
   "execution_count": 15,
   "id": "b018e71b",
   "metadata": {},
   "outputs": [],
   "source": [
    "import warnings\n",
    "warnings.filterwarnings(\"ignore\")"
   ]
  },
  {
   "cell_type": "code",
   "execution_count": 16,
   "id": "44740992",
   "metadata": {},
   "outputs": [
    {
     "name": "stdout",
     "output_type": "stream",
     "text": [
      "The number of the 0.1% top values of appliances load is 19 and they have power load higher than 790 Wh.\n"
     ]
    },
    {
     "data": {
      "image/png": "[encoded data removed]",
      "text/plain": [
       "<Figure size 432x288 with 1 Axes>"
      ]
     },
     "metadata": {},
     "output_type": "display_data"
    }
   ],
   "source": [
    "sorted_appliances = csvdata.sort_values('appliances',ascending=False)\n",
    "print(\"The number of the 0.1% top values of appliances load is\",\n",
    "     len(sorted_appliances.head(len(sorted_appliances)//1000)), \"and they have power load higher than\",\n",
    "     sorted_appliances.appliances[19], \"Wh.\")\n",
    "\n",
    "#boxplot appliances\n",
    "sns.set(style=\"darkgrid\")\n",
    "ax=sns.boxplot(sorted_appliances.appliances)"
   ]
  },
  {
   "cell_type": "code",
   "execution_count": 17,
   "id": "9741ad45",
   "metadata": {},
   "outputs": [],
   "source": [
    "#supprimer les valeurs atypiques\n",
    "csvdata = csvdata.dropna()\n",
    "csvdata=csvdata.drop(csvdata[(csvdata.appliances>790)| (csvdata.appliances<0)].index)"
   ]
  },
  {
   "cell_type": "code",
   "execution_count": 18,
   "id": "3b36e457",
   "metadata": {},
   "outputs": [
    {
     "data": {
      "text/html": [
       "<div>\n",
       "<style scoped>\n",
       "    .dataframe tbody tr th:only-of-type {\n",
       "        vertical-align: middle;\n",
       "    }\n",
       "\n",
       "    .dataframe tbody tr th {\n",
       "        vertical-align: top;\n",
       "    }\n",
       "\n",
       "    .dataframe thead th {\n",
       "        text-align: right;\n",
       "    }\n",
       "</style>\n",
       "<table border=\"1\" class=\"dataframe\">\n",
       "  <thead>\n",
       "    <tr style=\"text-align: right;\">\n",
       "      <th></th>\n",
       "      <th>appliances</th>\n",
       "      <th>lights</th>\n",
       "      <th>t1</th>\n",
       "      <th>rh_1</th>\n",
       "      <th>t2</th>\n",
       "      <th>rh_2</th>\n",
       "      <th>t3</th>\n",
       "      <th>rh_3</th>\n",
       "      <th>t4</th>\n",
       "      <th>rh_4</th>\n",
       "      <th>...</th>\n",
       "      <th>t9</th>\n",
       "      <th>rh_9</th>\n",
       "      <th>t_out</th>\n",
       "      <th>press_mm_hg</th>\n",
       "      <th>rh_out</th>\n",
       "      <th>windspeed</th>\n",
       "      <th>visibility</th>\n",
       "      <th>tdewpoint</th>\n",
       "      <th>rv1</th>\n",
       "      <th>rv2</th>\n",
       "    </tr>\n",
       "    <tr>\n",
       "      <th>date</th>\n",
       "      <th></th>\n",
       "      <th></th>\n",
       "      <th></th>\n",
       "      <th></th>\n",
       "      <th></th>\n",
       "      <th></th>\n",
       "      <th></th>\n",
       "      <th></th>\n",
       "      <th></th>\n",
       "      <th></th>\n",
       "      <th></th>\n",
       "      <th></th>\n",
       "      <th></th>\n",
       "      <th></th>\n",
       "      <th></th>\n",
       "      <th></th>\n",
       "      <th></th>\n",
       "      <th></th>\n",
       "      <th></th>\n",
       "      <th></th>\n",
       "      <th></th>\n",
       "    </tr>\n",
       "  </thead>\n",
       "  <tbody>\n",
       "    <tr>\n",
       "      <th>2016-01-17 17:40:00</th>\n",
       "      <td>790</td>\n",
       "      <td>10</td>\n",
       "      <td>21.566667</td>\n",
       "      <td>38.626667</td>\n",
       "      <td>20.10</td>\n",
       "      <td>37.040909</td>\n",
       "      <td>20.790000</td>\n",
       "      <td>37.260000</td>\n",
       "      <td>21.066667</td>\n",
       "      <td>36.966667</td>\n",
       "      <td>...</td>\n",
       "      <td>18.10</td>\n",
       "      <td>37.290000</td>\n",
       "      <td>-0.266667</td>\n",
       "      <td>764.833333</td>\n",
       "      <td>79.666667</td>\n",
       "      <td>2.000000</td>\n",
       "      <td>40.000000</td>\n",
       "      <td>-3.466667</td>\n",
       "      <td>36.170216</td>\n",
       "      <td>36.170216</td>\n",
       "    </tr>\n",
       "    <tr>\n",
       "      <th>2016-05-21 09:40:00</th>\n",
       "      <td>790</td>\n",
       "      <td>0</td>\n",
       "      <td>23.000000</td>\n",
       "      <td>50.260000</td>\n",
       "      <td>25.53</td>\n",
       "      <td>43.133333</td>\n",
       "      <td>24.390000</td>\n",
       "      <td>44.490000</td>\n",
       "      <td>23.600000</td>\n",
       "      <td>47.260000</td>\n",
       "      <td>...</td>\n",
       "      <td>23.00</td>\n",
       "      <td>47.462500</td>\n",
       "      <td>16.900000</td>\n",
       "      <td>756.333333</td>\n",
       "      <td>79.666667</td>\n",
       "      <td>4.666667</td>\n",
       "      <td>28.333333</td>\n",
       "      <td>13.333333</td>\n",
       "      <td>44.856357</td>\n",
       "      <td>44.856357</td>\n",
       "    </tr>\n",
       "    <tr>\n",
       "      <th>2016-01-14 18:50:00</th>\n",
       "      <td>790</td>\n",
       "      <td>10</td>\n",
       "      <td>22.166667</td>\n",
       "      <td>40.500000</td>\n",
       "      <td>21.70</td>\n",
       "      <td>38.626667</td>\n",
       "      <td>22.166667</td>\n",
       "      <td>42.133333</td>\n",
       "      <td>18.790000</td>\n",
       "      <td>44.626667</td>\n",
       "      <td>...</td>\n",
       "      <td>16.89</td>\n",
       "      <td>42.326667</td>\n",
       "      <td>4.083333</td>\n",
       "      <td>748.433333</td>\n",
       "      <td>76.833333</td>\n",
       "      <td>6.833333</td>\n",
       "      <td>40.000000</td>\n",
       "      <td>0.350000</td>\n",
       "      <td>30.487447</td>\n",
       "      <td>30.487447</td>\n",
       "    </tr>\n",
       "    <tr>\n",
       "      <th>2016-04-04 12:20:00</th>\n",
       "      <td>790</td>\n",
       "      <td>0</td>\n",
       "      <td>22.390000</td>\n",
       "      <td>45.563333</td>\n",
       "      <td>22.39</td>\n",
       "      <td>42.966667</td>\n",
       "      <td>25.000000</td>\n",
       "      <td>41.433333</td>\n",
       "      <td>21.600000</td>\n",
       "      <td>43.590000</td>\n",
       "      <td>...</td>\n",
       "      <td>20.60</td>\n",
       "      <td>44.433333</td>\n",
       "      <td>13.466667</td>\n",
       "      <td>749.866667</td>\n",
       "      <td>68.666667</td>\n",
       "      <td>7.000000</td>\n",
       "      <td>40.000000</td>\n",
       "      <td>7.766667</td>\n",
       "      <td>4.089491</td>\n",
       "      <td>4.089491</td>\n",
       "    </tr>\n",
       "    <tr>\n",
       "      <th>2016-04-29 11:40:00</th>\n",
       "      <td>780</td>\n",
       "      <td>0</td>\n",
       "      <td>20.133333</td>\n",
       "      <td>37.333333</td>\n",
       "      <td>18.26</td>\n",
       "      <td>39.590000</td>\n",
       "      <td>21.890000</td>\n",
       "      <td>34.260000</td>\n",
       "      <td>19.500000</td>\n",
       "      <td>35.663333</td>\n",
       "      <td>...</td>\n",
       "      <td>18.60</td>\n",
       "      <td>36.466667</td>\n",
       "      <td>7.233333</td>\n",
       "      <td>755.233333</td>\n",
       "      <td>89.000000</td>\n",
       "      <td>4.333333</td>\n",
       "      <td>26.000000</td>\n",
       "      <td>5.500000</td>\n",
       "      <td>44.465602</td>\n",
       "      <td>44.465602</td>\n",
       "    </tr>\n",
       "  </tbody>\n",
       "</table>\n",
       "<p>5 rows × 28 columns</p>\n",
       "</div>"
      ],
      "text/plain": [
       "                     appliances  lights         t1       rh_1     t2  \\\n",
       "date                                                                   \n",
       "2016-01-17 17:40:00         790      10  21.566667  38.626667  20.10   \n",
       "2016-05-21 09:40:00         790       0  23.000000  50.260000  25.53   \n",
       "2016-01-14 18:50:00         790      10  22.166667  40.500000  21.70   \n",
       "2016-04-04 12:20:00         790       0  22.390000  45.563333  22.39   \n",
       "2016-04-29 11:40:00         780       0  20.133333  37.333333  18.26   \n",
       "\n",
       "                          rh_2         t3       rh_3         t4       rh_4  \\\n",
       "date                                                                         \n",
       "2016-01-17 17:40:00  37.040909  20.790000  37.260000  21.066667  36.966667   \n",
       "2016-05-21 09:40:00  43.133333  24.390000  44.490000  23.600000  47.260000   \n",
       "2016-01-14 18:50:00  38.626667  22.166667  42.133333  18.790000  44.626667   \n",
       "2016-04-04 12:20:00  42.966667  25.000000  41.433333  21.600000  43.590000   \n",
       "2016-04-29 11:40:00  39.590000  21.890000  34.260000  19.500000  35.663333   \n",
       "\n",
       "                     ...     t9       rh_9      t_out  press_mm_hg     rh_out  \\\n",
       "date                 ...                                                        \n",
       "2016-01-17 17:40:00  ...  18.10  37.290000  -0.266667   764.833333  79.666667   \n",
       "2016-05-21 09:40:00  ...  23.00  47.462500  16.900000   756.333333  79.666667   \n",
       "2016-01-14 18:50:00  ...  16.89  42.326667   4.083333   748.433333  76.833333   \n",
       "2016-04-04 12:20:00  ...  20.60  44.433333  13.466667   749.866667  68.666667   \n",
       "2016-04-29 11:40:00  ...  18.60  36.466667   7.233333   755.233333  89.000000   \n",
       "\n",
       "                     windspeed  visibility  tdewpoint        rv1        rv2  \n",
       "date                                                                         \n",
       "2016-01-17 17:40:00   2.000000   40.000000  -3.466667  36.170216  36.170216  \n",
       "2016-05-21 09:40:00   4.666667   28.333333  13.333333  44.856357  44.856357  \n",
       "2016-01-14 18:50:00   6.833333   40.000000   0.350000  30.487447  30.487447  \n",
       "2016-04-04 12:20:00   7.000000   40.000000   7.766667   4.089491   4.089491  \n",
       "2016-04-29 11:40:00   4.333333   26.000000   5.500000  44.465602  44.465602  \n",
       "\n",
       "[5 rows x 28 columns]"
      ]
     },
     "execution_count": 18,
     "metadata": {},
     "output_type": "execute_result"
    }
   ],
   "source": [
    "sorted_appliances =csvdata.sort_values('appliances',ascending=False)\n",
    "sorted_appliances.head()"
   ]
  },
  {
   "cell_type": "markdown",
   "id": "84d1aae4",
   "metadata": {},
   "source": [
    "<p  style=\"font-family:Serif; font-size:17px;\">On va essayer de d'organiser notre data et la structuré en analysant la consommation durant des differents intervalles du jour et semaine ainsi que les mois pour pouvoir expliquer et deduire la periode ou la consommation est maximal </p>\n",
    "</div>"
   ]
  },
  {
   "cell_type": "code",
   "execution_count": 22,
   "id": "5394d8aa",
   "metadata": {},
   "outputs": [],
   "source": [
    "csvdata=csvdata.set_index('date')"
   ]
  },
  {
   "cell_type": "code",
   "execution_count": 39,
   "id": "14074c84",
   "metadata": {},
   "outputs": [],
   "source": [
    "csvdata['hour']=csvdata.index.hour\n",
    "csvdata['week']= csvdata.index.week\n",
    "csvdata['weekday']= csvdata.index.weekday\n",
    "csvdata['month']= csvdata.index.month"
   ]
  },
  {
   "cell_type": "code",
   "execution_count": 32,
   "id": "cffeefa0",
   "metadata": {},
   "outputs": [],
   "source": [
    "csvdata['log_appliances)']= np.log(csvdata.appliances)"
   ]
  },
  {
   "cell_type": "code",
   "execution_count": 33,
   "id": "616b1ceb",
   "metadata": {},
   "outputs": [],
   "source": [
    "#La température moyenne de notre maisons\n",
    "csvdata['house_temp']=(csvdata.t1+csvdata.t2+csvdata.t3+csvdata.t4+csvdata.t5+csvdata.t9+csvdata.t7+csvdata.t8)/8\n",
    "#l'humidite moyenne de notre maisons\n",
    "csvdata['house_hum']=(csvdata.rh_1+csvdata.rh_2+csvdata.rh_3+csvdata.rh_4+csvdata.rh_5+csvdata.rh_9+csvdata.rh_7+csvdata.rh_8)/8"
   ]
  },
  {
   "cell_type": "code",
   "execution_count": 34,
   "id": "4750d8b0",
   "metadata": {},
   "outputs": [
    {
     "data": {
      "text/plain": [
       "date\n",
       "2016-01-11 17:00:00    18.435000\n",
       "2016-01-11 17:10:00    18.439167\n",
       "2016-01-11 17:20:00    18.421667\n",
       "2016-01-11 17:30:00    18.396250\n",
       "2016-01-11 17:40:00    18.408750\n",
       "Name: house_temp, dtype: float64"
      ]
     },
     "execution_count": 34,
     "metadata": {},
     "output_type": "execute_result"
    }
   ],
   "source": [
    "#Les differents valeurs de temperatures d'une maison durant un intervalle de temps\n",
    "csvdata['house_temp'].head()"
   ]
  },
  {
   "cell_type": "code",
   "execution_count": 35,
   "id": "2c6ecc88",
   "metadata": {},
   "outputs": [
    {
     "data": {
      "text/plain": [
       "date\n",
       "2016-01-11 17:00:00    46.742500\n",
       "2016-01-11 17:10:00    46.672708\n",
       "2016-01-11 17:20:00    46.562917\n",
       "2016-01-11 17:30:00    46.468750\n",
       "2016-01-11 17:40:00    46.462917\n",
       "Name: house_hum, dtype: float64"
      ]
     },
     "execution_count": 35,
     "metadata": {},
     "output_type": "execute_result"
    }
   ],
   "source": [
    "#Les differents valeurs de l'humidite d'une maison durant un intervalle de temps\n",
    "csvdata['house_hum'].head()"
   ]
  },
  {
   "cell_type": "code",
   "execution_count": 36,
   "id": "cd981a27",
   "metadata": {},
   "outputs": [],
   "source": [
    "def code_mean(data, cat_feature, real_feature):\n",
    "    return dict(data.groupby(cat_feature)[real_feature].mean())"
   ]
  },
  {
   "cell_type": "code",
   "execution_count": 41,
   "id": "f555470b",
   "metadata": {},
   "outputs": [],
   "source": [
    "#calculer la consommation energetique moyenne par jour de semaine et par heure\n",
    "csvdata['weekday_avg'] = list(map(\n",
    "             code_mean (csvdata[:], \"weekday\", \"appliances\").get, csvdata.weekday))\n",
    "csvdata['hour_avg' ] = list(map(\n",
    "             code_mean(csvdata[:], \"hour\", \"appliances\"). get, csvdata.hour))"
   ]
  },
  {
   "cell_type": "code",
   "execution_count": 42,
   "id": "5ec17358",
   "metadata": {},
   "outputs": [
    {
     "data": {
      "text/plain": [
       "date\n",
       "2016-01-11 17:00:00    111.450684\n",
       "2016-01-11 17:10:00    111.450684\n",
       "2016-01-11 17:20:00    111.450684\n",
       "2016-01-11 17:30:00    111.450684\n",
       "2016-01-11 17:40:00    111.450684\n",
       "Name: weekday_avg, dtype: float64"
      ]
     },
     "execution_count": 42,
     "metadata": {},
     "output_type": "execute_result"
    }
   ],
   "source": [
    "#la moyenne de consommation durant les jours de la semaines\n",
    "csvdata['weekday_avg'].head()"
   ]
  },
  {
   "cell_type": "code",
   "execution_count": 43,
   "id": "b02bbb97",
   "metadata": {},
   "outputs": [
    {
     "data": {
      "text/plain": [
       "date\n",
       "2016-01-11 17:00:00    161.352657\n",
       "2016-01-11 17:10:00    161.352657\n",
       "2016-01-11 17:20:00    161.352657\n",
       "2016-01-11 17:30:00    161.352657\n",
       "2016-01-11 17:40:00    161.352657\n",
       "Name: hour_avg, dtype: float64"
      ]
     },
     "execution_count": 43,
     "metadata": {},
     "output_type": "execute_result"
    }
   ],
   "source": [
    "#la moyenne de consommation durant les jours de la semaines\n",
    "csvdata['hour_avg'].head()"
   ]
  },
  {
   "cell_type": "code",
   "execution_count": 44,
   "id": "d63944e8",
   "metadata": {},
   "outputs": [],
   "source": [
    "#afficher les donnes dans un intervalle de 1h\n",
    "csvdata_hour =csvdata.resample('1H').mean()"
   ]
  },
  {
   "cell_type": "code",
   "execution_count": 45,
   "id": "5c17f87b",
   "metadata": {},
   "outputs": [
    {
     "data": {
      "text/html": [
       "<div>\n",
       "<style scoped>\n",
       "    .dataframe tbody tr th:only-of-type {\n",
       "        vertical-align: middle;\n",
       "    }\n",
       "\n",
       "    .dataframe tbody tr th {\n",
       "        vertical-align: top;\n",
       "    }\n",
       "\n",
       "    .dataframe thead th {\n",
       "        text-align: right;\n",
       "    }\n",
       "</style>\n",
       "<table border=\"1\" class=\"dataframe\">\n",
       "  <thead>\n",
       "    <tr style=\"text-align: right;\">\n",
       "      <th></th>\n",
       "      <th>appliances</th>\n",
       "      <th>lights</th>\n",
       "      <th>t1</th>\n",
       "      <th>rh_1</th>\n",
       "      <th>t2</th>\n",
       "      <th>rh_2</th>\n",
       "      <th>t3</th>\n",
       "      <th>rh_3</th>\n",
       "      <th>t4</th>\n",
       "      <th>rh_4</th>\n",
       "      <th>...</th>\n",
       "      <th>rv2</th>\n",
       "      <th>log_appliances)</th>\n",
       "      <th>house_temp</th>\n",
       "      <th>house_hum</th>\n",
       "      <th>hour</th>\n",
       "      <th>week</th>\n",
       "      <th>weekday</th>\n",
       "      <th>month</th>\n",
       "      <th>weekday_avg</th>\n",
       "      <th>hour_avg</th>\n",
       "    </tr>\n",
       "    <tr>\n",
       "      <th>date</th>\n",
       "      <th></th>\n",
       "      <th></th>\n",
       "      <th></th>\n",
       "      <th></th>\n",
       "      <th></th>\n",
       "      <th></th>\n",
       "      <th></th>\n",
       "      <th></th>\n",
       "      <th></th>\n",
       "      <th></th>\n",
       "      <th></th>\n",
       "      <th></th>\n",
       "      <th></th>\n",
       "      <th></th>\n",
       "      <th></th>\n",
       "      <th></th>\n",
       "      <th></th>\n",
       "      <th></th>\n",
       "      <th></th>\n",
       "      <th></th>\n",
       "      <th></th>\n",
       "    </tr>\n",
       "  </thead>\n",
       "  <tbody>\n",
       "    <tr>\n",
       "      <th>2016-01-11 17:00:00</th>\n",
       "      <td>55.000000</td>\n",
       "      <td>35.000000</td>\n",
       "      <td>19.890000</td>\n",
       "      <td>46.502778</td>\n",
       "      <td>19.200000</td>\n",
       "      <td>44.626528</td>\n",
       "      <td>19.790000</td>\n",
       "      <td>44.897778</td>\n",
       "      <td>18.932778</td>\n",
       "      <td>45.738750</td>\n",
       "      <td>...</td>\n",
       "      <td>26.823044</td>\n",
       "      <td>4.003184</td>\n",
       "      <td>18.415486</td>\n",
       "      <td>46.554965</td>\n",
       "      <td>17.0</td>\n",
       "      <td>2.0</td>\n",
       "      <td>0.0</td>\n",
       "      <td>1.0</td>\n",
       "      <td>111.450684</td>\n",
       "      <td>161.352657</td>\n",
       "    </tr>\n",
       "    <tr>\n",
       "      <th>2016-01-11 18:00:00</th>\n",
       "      <td>176.666667</td>\n",
       "      <td>51.666667</td>\n",
       "      <td>19.897778</td>\n",
       "      <td>45.879028</td>\n",
       "      <td>19.268889</td>\n",
       "      <td>44.438889</td>\n",
       "      <td>19.770000</td>\n",
       "      <td>44.863333</td>\n",
       "      <td>18.908333</td>\n",
       "      <td>46.066667</td>\n",
       "      <td>...</td>\n",
       "      <td>22.324206</td>\n",
       "      <td>4.722106</td>\n",
       "      <td>18.407726</td>\n",
       "      <td>46.519965</td>\n",
       "      <td>18.0</td>\n",
       "      <td>2.0</td>\n",
       "      <td>0.0</td>\n",
       "      <td>1.0</td>\n",
       "      <td>111.450684</td>\n",
       "      <td>190.364520</td>\n",
       "    </tr>\n",
       "    <tr>\n",
       "      <th>2016-01-11 19:00:00</th>\n",
       "      <td>173.333333</td>\n",
       "      <td>25.000000</td>\n",
       "      <td>20.495556</td>\n",
       "      <td>52.805556</td>\n",
       "      <td>19.925556</td>\n",
       "      <td>46.061667</td>\n",
       "      <td>20.052222</td>\n",
       "      <td>47.227361</td>\n",
       "      <td>18.969444</td>\n",
       "      <td>47.815556</td>\n",
       "      <td>...</td>\n",
       "      <td>33.734932</td>\n",
       "      <td>4.923982</td>\n",
       "      <td>18.685903</td>\n",
       "      <td>48.665312</td>\n",
       "      <td>19.0</td>\n",
       "      <td>2.0</td>\n",
       "      <td>0.0</td>\n",
       "      <td>1.0</td>\n",
       "      <td>111.450684</td>\n",
       "      <td>143.065693</td>\n",
       "    </tr>\n",
       "    <tr>\n",
       "      <th>2016-01-11 20:00:00</th>\n",
       "      <td>125.000000</td>\n",
       "      <td>35.000000</td>\n",
       "      <td>20.961111</td>\n",
       "      <td>48.453333</td>\n",
       "      <td>20.251111</td>\n",
       "      <td>45.632639</td>\n",
       "      <td>20.213889</td>\n",
       "      <td>47.268889</td>\n",
       "      <td>19.190833</td>\n",
       "      <td>49.227917</td>\n",
       "      <td>...</td>\n",
       "      <td>25.679642</td>\n",
       "      <td>4.793191</td>\n",
       "      <td>18.941007</td>\n",
       "      <td>50.355625</td>\n",
       "      <td>20.0</td>\n",
       "      <td>2.0</td>\n",
       "      <td>0.0</td>\n",
       "      <td>1.0</td>\n",
       "      <td>111.450684</td>\n",
       "      <td>126.982968</td>\n",
       "    </tr>\n",
       "    <tr>\n",
       "      <th>2016-01-11 21:00:00</th>\n",
       "      <td>103.333333</td>\n",
       "      <td>23.333333</td>\n",
       "      <td>21.311667</td>\n",
       "      <td>45.768333</td>\n",
       "      <td>20.587778</td>\n",
       "      <td>44.961111</td>\n",
       "      <td>20.373333</td>\n",
       "      <td>46.164444</td>\n",
       "      <td>19.425556</td>\n",
       "      <td>47.918889</td>\n",
       "      <td>...</td>\n",
       "      <td>18.826274</td>\n",
       "      <td>4.636940</td>\n",
       "      <td>19.254063</td>\n",
       "      <td>48.977361</td>\n",
       "      <td>21.0</td>\n",
       "      <td>2.0</td>\n",
       "      <td>0.0</td>\n",
       "      <td>1.0</td>\n",
       "      <td>111.450684</td>\n",
       "      <td>96.496350</td>\n",
       "    </tr>\n",
       "  </tbody>\n",
       "</table>\n",
       "<p>5 rows × 37 columns</p>\n",
       "</div>"
      ],
      "text/plain": [
       "                     appliances     lights         t1       rh_1         t2  \\\n",
       "date                                                                          \n",
       "2016-01-11 17:00:00   55.000000  35.000000  19.890000  46.502778  19.200000   \n",
       "2016-01-11 18:00:00  176.666667  51.666667  19.897778  45.879028  19.268889   \n",
       "2016-01-11 19:00:00  173.333333  25.000000  20.495556  52.805556  19.925556   \n",
       "2016-01-11 20:00:00  125.000000  35.000000  20.961111  48.453333  20.251111   \n",
       "2016-01-11 21:00:00  103.333333  23.333333  21.311667  45.768333  20.587778   \n",
       "\n",
       "                          rh_2         t3       rh_3         t4       rh_4  \\\n",
       "date                                                                         \n",
       "2016-01-11 17:00:00  44.626528  19.790000  44.897778  18.932778  45.738750   \n",
       "2016-01-11 18:00:00  44.438889  19.770000  44.863333  18.908333  46.066667   \n",
       "2016-01-11 19:00:00  46.061667  20.052222  47.227361  18.969444  47.815556   \n",
       "2016-01-11 20:00:00  45.632639  20.213889  47.268889  19.190833  49.227917   \n",
       "2016-01-11 21:00:00  44.961111  20.373333  46.164444  19.425556  47.918889   \n",
       "\n",
       "                     ...        rv2  log_appliances)  house_temp  house_hum  \\\n",
       "date                 ...                                                      \n",
       "2016-01-11 17:00:00  ...  26.823044         4.003184   18.415486  46.554965   \n",
       "2016-01-11 18:00:00  ...  22.324206         4.722106   18.407726  46.519965   \n",
       "2016-01-11 19:00:00  ...  33.734932         4.923982   18.685903  48.665312   \n",
       "2016-01-11 20:00:00  ...  25.679642         4.793191   18.941007  50.355625   \n",
       "2016-01-11 21:00:00  ...  18.826274         4.636940   19.254063  48.977361   \n",
       "\n",
       "                     hour  week  weekday  month  weekday_avg    hour_avg  \n",
       "date                                                                      \n",
       "2016-01-11 17:00:00  17.0   2.0      0.0    1.0   111.450684  161.352657  \n",
       "2016-01-11 18:00:00  18.0   2.0      0.0    1.0   111.450684  190.364520  \n",
       "2016-01-11 19:00:00  19.0   2.0      0.0    1.0   111.450684  143.065693  \n",
       "2016-01-11 20:00:00  20.0   2.0      0.0    1.0   111.450684  126.982968  \n",
       "2016-01-11 21:00:00  21.0   2.0      0.0    1.0   111.450684   96.496350  \n",
       "\n",
       "[5 rows x 37 columns]"
      ]
     },
     "execution_count": 45,
     "metadata": {},
     "output_type": "execute_result"
    }
   ],
   "source": [
    "csvdata_hour.head()"
   ]
  },
  {
   "cell_type": "code",
   "execution_count": 46,
   "id": "e440bbac",
   "metadata": {},
   "outputs": [],
   "source": [
    "#Déterminer les hypothèses à la baisse ou à la hausse\n",
    "\n",
    "csvdata_hour['low_consum'] = (csvdata_hour.appliances+25< (csvdata_hour.hour_avg))*1\n",
    "csvdata_hour['high_consum'] = (csvdata_hour.appliances+25> (csvdata_hour.hour_avg)) *1"
   ]
  },
  {
   "cell_type": "code",
   "execution_count": 47,
   "id": "1ecc2411",
   "metadata": {},
   "outputs": [],
   "source": [
    "def daily(x, csvdata=csvdata):\n",
    "    return csvdata.groupby ('weekday')[x].mean()\n",
    "def hourly(x,csvdata=csvdata):\n",
    "    return csvdata.groupby('hour')[x].mean()\n",
    "\n",
    "\n",
    "def monthly_daily(x,csvdata=csvdata):\n",
    "    by_day = csvdata.pivot_table(index='weekday',\n",
    "                                    columns=['month'],\n",
    "                                    values=x,\n",
    "                                    aggfunc='mean')\n",
    "    return round(by_day,ndigits=2)"
   ]
  },
  {
   "cell_type": "code",
   "execution_count": 48,
   "id": "4b8908e2",
   "metadata": {},
   "outputs": [
    {
     "data": {
      "image/png": "[encoded data removed]",
      "text/plain": [
       "<Figure size 720x648 with 1 Axes>"
      ]
     },
     "metadata": {},
     "output_type": "display_data"
    }
   ],
   "source": [
    "#tracage de la consomation d'energie par heures\n",
    "\n",
    "hourly('appliances').plot(figsize=(10,9))\n",
    "plt.xlabel('Hour')\n",
    "plt.ylabel('Appliances consommations in Wh')\n",
    "ticks = list(range(0, 24, 1))\n",
    "plt.title(\"Consommation moyenne dénergie par heure d'une journée\")\n",
    "plt.xticks(ticks);"
   ]
  },
  {
   "cell_type": "markdown",
   "id": "68a457f3",
   "metadata": {},
   "source": [
    "<p  style=\"font-family:Serif; font-size:17px;\">D'après le graphe on peut remarquer une consommation excessive à partir de 16 h,tel  qu'on arrive au pic vers les 18 h , on peut expliquer cette augmentation brutale du fait que c'est l'heure de la rentrée  des gens a la maison après la fin des horaires de travail et d'études </p>\n",
    "</div>"
   ]
  },
  {
   "cell_type": "code",
   "execution_count": 49,
   "id": "e42b97d3",
   "metadata": {},
   "outputs": [
    {
     "data": {
      "image/png": "[encoded data removed]",
      "text/plain": [
       "<Figure size 720x504 with 1 Axes>"
      ]
     },
     "metadata": {},
     "output_type": "display_data"
    }
   ],
   "source": [
    "#Consommation hebdomadaire\n",
    "daily('appliances').plot(kind = 'bar', color=['chocolate', 'red', 'green', 'blue', 'cyan', 'purple', 'navy'], figsize=(10,7))\n",
    "ticks= list(range(0, 7, 1))\n",
    "labels = \"Lundi Mardi Mercredi Jeudi Vendredi Samedi Dim\".split()\n",
    "plt.xlabel( 'Jours')\n",
    "plt.ylabel('Appliances conomations in Wh')\n",
    "plt.title(\"Consommation moyenne dénergie par jours de semaine\")\n",
    "plt.xticks (ticks, labels);"
   ]
  },
  {
   "cell_type": "code",
   "execution_count": 59,
   "id": "16540cc9",
   "metadata": {},
   "outputs": [
    {
     "data": {
      "image/png": "[encoded data removed]",
      "text/plain": [
       "<Figure size 720x648 with 2 Axes>"
      ]
     },
     "metadata": {},
     "output_type": "display_data"
    }
   ],
   "source": [
    "#Consommation mensuelle\n",
    "sns.set(rc={'figure.figsize': (10,9)},)\n",
    "ax=sns.heatmap(monthly_daily('appliances').T,cmap=\"PiYG_r\",\n",
    "                           xticklabels=\"Lundi Mardi Mercredi Jeudi Vendredi Samedi Dim\".split(),\n",
    "                           yticklabels=\"Janvier Fevrier Mars Avril Mai\".split(),\n",
    "                           annot=True, fmt='g',\n",
    "                           cbar_kws={'label': 'consommation in wH'}).set_title(\"Mean appliances Consumption(Wh) per weekday/month\")  \n",
    "plt.show()"
   ]
  },
  {
   "cell_type": "markdown",
   "id": "2cd084e9",
   "metadata": {},
   "source": [
    "<div>\n",
    "<p  style=\"font-family:Serif; font-size:17px;\"> D'apres le graphe on peut deduire les jours de chaque mois ou la consommation est maximal ou minimal  </p>\n",
    "    <p  style=\"font-family:Serif; font-size:17px;\">Par exemple pour Janvier,on peut remarquer que le dimanche est le jour ou la consommation est maximal tandis que pour Fevrier c'est Lundi, et pour expliquer cette variation on peut prendre en consideration la meteo et le climat de chaque mois ainsi que les activités qu'on peut excercer dans chaque chaque periode</p><br>\n",
    "\n",
    "</div>"
   ]
  },
  {
   "cell_type": "markdown",
   "id": "8c704783",
   "metadata": {},
   "source": [
    "<div>\n",
    "    <h2 style=\"font-family:Serif; color:#d63031; font-size:27px; margin-bottom:0\">3 - L'entraînement des données </h2>\n",
    "    <p  style=\"font-family:Serif; font-size:17px;\">La normalisation de l'échelle des données en utilisant la bibliothèque <b>StandardScaler</b> :"
   ]
  },
  {
   "cell_type": "code",
   "execution_count": 60,
   "id": "6c62020a",
   "metadata": {},
   "outputs": [],
   "source": [
    " for cat_feature in ['weekday', 'hour']:\n",
    "           csvdata_hour = pd.concat ([csvdata_hour, pd.get_dummies (csvdata_hour[cat_feature])], axis=1)\n",
    "           csvdata = pd.concat ([csvdata, pd.get_dummies(csvdata[cat_feature])], axis=1)"
   ]
  },
  {
   "cell_type": "code",
   "execution_count": 61,
   "id": "e4eb5ace",
   "metadata": {},
   "outputs": [],
   "source": [
    " lin_model = ['low_consum', 'high_consum', 'hour','t6', 'rh_6','lights', 'windspeed']"
   ]
  },
  {
   "cell_type": "code",
   "execution_count": 62,
   "id": "6e8a4863",
   "metadata": {},
   "outputs": [],
   "source": [
    "test_size=.2\n",
    "test_index = int (len(csvdata_hour.dropna())*(1-test_size))\n",
    "X1_train, X1_test = csvdata_hour[lin_model].iloc[:test_index,], csvdata_hour[lin_model].iloc[test_index:,]\n",
    "y1_train = csvdata_hour.appliances.iloc[:test_index,]\n",
    "y_test = csvdata_hour.appliances.iloc[test_index:,]"
   ]
  },
  {
   "cell_type": "code",
   "execution_count": 63,
   "id": "839b93f7",
   "metadata": {},
   "outputs": [],
   "source": [
    "from sklearn.preprocessing import StandardScaler\n",
    "scaler = StandardScaler()\n",
    "scaler.fit(X1_train)\n",
    "x1_train = scaler.transform(X1_train)\n",
    "X1_test = scaler.transform(X1_test)"
   ]
  },
  {
   "cell_type": "code",
   "execution_count": 64,
   "id": "572f04a6",
   "metadata": {},
   "outputs": [
    {
     "data": {
      "text/plain": [
       "LinearRegression()"
      ]
     },
     "execution_count": 64,
     "metadata": {},
     "output_type": "execute_result"
    }
   ],
   "source": [
    "from sklearn import linear_model\n",
    "lin_model = linear_model.LinearRegression()\n",
    "lin_model.fit(X1_train,y1_train)"
   ]
  },
  {
   "cell_type": "code",
   "execution_count": 65,
   "id": "e3ad97b4",
   "metadata": {},
   "outputs": [],
   "source": [
    "from sklearn.model_selection import TimeSeriesSplit\n",
    "from sklearn.metrics import mean_squared_error, r2_score\n",
    "from sklearn.model_selection import cross_val_score, cross_val_predict\n",
    "from sklearn import metrics"
   ]
  },
  {
   "cell_type": "code",
   "execution_count": 69,
   "id": "79bb2aab",
   "metadata": {},
   "outputs": [],
   "source": [
    "#pour verifier la qualite de notre predictions\n",
    "def evaluate(model, test_features, test_labels):\n",
    "    predictions = model.predict(test_features)\n",
    "    errors = abs (predictions - test_labels)\n",
    "    mape = 100 * np.mean(errors / test_labels)\n",
    "    r_score = 100*r2_score(test_labels, predictions)\n",
    "    accuracy = 100 - mape\n",
    "    \n",
    "                   "
   ]
  },
  {
   "cell_type": "markdown",
   "id": "02a2ad0b",
   "metadata": {},
   "source": [
    "<div>\n",
    "    <h2 style=\"font-family:Serif; color:#d63031; font-size:27px; margin-bottom:0\">4 - réseaux de fonctions à base radiale </h2>\n",
    "\n",
    "</div>"
   ]
  },
  {
   "cell_type": "markdown",
   "id": "87fa9e72",
   "metadata": {},
   "source": [
    "<div>\n",
    "        <p  style=\"font-family:Serif; font-size:17px;\">\n",
    "Les fonctions de base radiale (RBF) sont une série de techniques d'interpolation exacte qui impliquent le passage de la surface par chaque valeur d'échantillon mesuré.\n",
    "</div>"
   ]
  },
  {
   "cell_type": "code",
   "execution_count": 93,
   "id": "6026da83",
   "metadata": {},
   "outputs": [],
   "source": [
    "X=np.linspace(0,1,5)\n",
    "x=np.linspace(0,1,100)\n",
    "def true_fn(x): return x**2-x-np.cos(np.pi*x)"
   ]
  },
  {
   "cell_type": "code",
   "execution_count": 94,
   "id": "f21154f4",
   "metadata": {},
   "outputs": [
    {
     "data": {
      "text/plain": [
       "[<matplotlib.lines.Line2D at 0x1dcc6f0f190>]"
      ]
     },
     "execution_count": 94,
     "metadata": {},
     "output_type": "execute_result"
    },
    {
     "data": {
      "image/png": "[encoded data removed]",
      "text/plain": [
       "<Figure size 864x432 with 1 Axes>"
      ]
     },
     "metadata": {},
     "output_type": "display_data"
    }
   ],
   "source": [
    "plt.figure(figsize=(12,6))\n",
    "plt.plot(xk,true_fn(xk),'x',markersize=15)\n",
    "plt.plot(x,true_fn(x),'--r')"
   ]
  },
  {
   "cell_type": "code",
   "execution_count": 95,
   "id": "f4b6ec50",
   "metadata": {},
   "outputs": [
    {
     "data": {
      "text/plain": [
       "array([[ 0.  , -0.25, -0.5 , -0.75, -1.  ],\n",
       "       [ 0.25,  0.  , -0.25, -0.5 , -0.75],\n",
       "       [ 0.5 ,  0.25,  0.  , -0.25, -0.5 ],\n",
       "       [ 0.75,  0.5 ,  0.25,  0.  , -0.25],\n",
       "       [ 1.  ,  0.75,  0.5 ,  0.25,  0.  ]])"
      ]
     },
     "execution_count": 95,
     "metadata": {},
     "output_type": "execute_result"
    }
   ],
   "source": [
    "xk.reshape(-1,1) - xk.reshape(1,-1)"
   ]
  },
  {
   "cell_type": "code",
   "execution_count": 96,
   "id": "7271c79e",
   "metadata": {},
   "outputs": [],
   "source": [
    "def eculidean_distance(x,xk):\n",
    "    return np.sqrt(((x.reshape(-1,1)) - xk. reshape (1,-1))**2)\n"
   ]
  },
  {
   "cell_type": "code",
   "execution_count": 97,
   "id": "641144dc",
   "metadata": {},
   "outputs": [],
   "source": [
    "def gauss_rbf(radius,eps):\n",
    "    return np.exp(-(eps*radius)**2)\n"
   ]
  },
  {
   "cell_type": "code",
   "execution_count": 98,
   "id": "c034cc5f",
   "metadata": {},
   "outputs": [
    {
     "data": {
      "text/plain": [
       "array([[1.        , 0.77880078, 0.36787944, 0.10539922, 0.01831564],\n",
       "       [0.77880078, 1.        , 0.77880078, 0.36787944, 0.10539922],\n",
       "       [0.36787944, 0.77880078, 1.        , 0.77880078, 0.36787944],\n",
       "       [0.10539922, 0.36787944, 0.77880078, 1.        , 0.77880078],\n",
       "       [0.01831564, 0.10539922, 0.36787944, 0.77880078, 1.        ]])"
      ]
     },
     "execution_count": 98,
     "metadata": {},
     "output_type": "execute_result"
    }
   ],
   "source": [
    "gauss_rbf(eculidean_distance(xk,xk),2)"
   ]
  },
  {
   "cell_type": "code",
   "execution_count": 99,
   "id": "63af15be",
   "metadata": {},
   "outputs": [],
   "source": [
    "class RBFInterp(object):\n",
    "    def __init__(self, eps):\n",
    "        self.eps = eps\n",
    "    def fit(self,xk, yk):\n",
    "        self.xk_ = xk\n",
    "        transformation = gauss_rbf (eculidean_distance(xk,xk),self.eps)\n",
    "        self.w_=np.linalg.solve(transformation,yk)\n",
    "    def __call__(self,xn):\n",
    "        transformation = gauss_rbf (eculidean_distance(xk,xk),self.eps)\n",
    "        return transformation.dot(self.w_)"
   ]
  },
  {
   "cell_type": "code",
   "execution_count": 101,
   "id": "348e0433",
   "metadata": {},
   "outputs": [],
   "source": [
    "def func(x1, x2): return x1**2*np.cos (2*np.pi*x2)"
   ]
  },
  {
   "cell_type": "code",
   "execution_count": 107,
   "id": "68dcfd93",
   "metadata": {},
   "outputs": [],
   "source": [
    "def generate_data():\n",
    "    x1=np.linspace(0,1,10)\n",
    "    x2=np.linspace(0,1,10)\n",
    "    xx,xy = np.meshgrid(x1,x2)\n",
    "    y=func(xx,xy)\n",
    "    return np.concatenate([xx.reshape(-1,1),xy.reshape(-1,1)],axis=1),y.reshape(-1,1)"
   ]
  },
  {
   "cell_type": "code",
   "execution_count": 108,
   "id": "079f4869",
   "metadata": {},
   "outputs": [],
   "source": [
    "data,ytest=generate_data()"
   ]
  },
  {
   "cell_type": "code",
   "execution_count": 113,
   "id": "2d2e43c0",
   "metadata": {},
   "outputs": [],
   "source": [
    "def plot_real_function(func, resolution=100):\n",
    "    x1 = np.linspace(0,1, resolution)\n",
    "    x2 = np.linspace(0,1, resolution)\n",
    "    xx, xy = np.meshgrid(x1,x2)\n",
    "    y = func(xx,xy)\n",
    "    plt.contour(xx,xy,y)\n",
    "    cs=plt.contour(xx,xy,y)\n",
    "    plt.clabel(cs)"
   ]
  },
  {
   "cell_type": "code",
   "execution_count": 115,
   "id": "7f8c0473",
   "metadata": {},
   "outputs": [
    {
     "data": {
      "text/plain": [
       "<matplotlib.collections.PathCollection at 0x1dcc5c1c640>"
      ]
     },
     "execution_count": 115,
     "metadata": {},
     "output_type": "execute_result"
    },
    {
     "data": {
      "image/png": "[encoded data removed]",
      "text/plain": [
       "<Figure size 720x576 with 1 Axes>"
      ]
     },
     "metadata": {
      "needs_background": "light"
     },
     "output_type": "display_data"
    }
   ],
   "source": [
    "plt.figure(figsize=(10,8) )\n",
    "plot_real_function(func)\n",
    "plt.scatter(data[:,0], data[:,1])"
   ]
  },
  {
   "cell_type": "markdown",
   "id": "44392e48",
   "metadata": {},
   "source": [
    " <p  style=\"font-family:Serif; font-size:17px;\">Pour résumer, les réseaux RBF sont un type spécial de réseau neuronal utilisé pour la régression. Ils sont similaires aux réseaux à 2 couches, mais nous remplaçons la fonction d'activation par une fonction de base radiale, plus précisément une fonction de base radiale gaussienne. Nous prenons chaque vecteur d'entrée et l'alimentons dans chaque base. Ensuite, nous faisons une simple somme pondérée pour obtenir notre valeur de fonction approchée à la fin. ! Enfin, nous avons implémenté des réseaux RBF dans une classe et l'avons utilisé pour approximer une fonction simple"
   ]
  },
  {
   "cell_type": "markdown",
   "id": "03d4967c",
   "metadata": {},
   "source": [
    "<div>\n",
    "    <h2 style=\"font-family:Serif; color:#d63031; font-size:27px; margin-bottom:0\">Conclusion : </h2>\n",
    "            <p  style=\"font-family:Serif; font-size:17px;\">Pour conclure ses réseaux RBF sont un excellent exemple de modèles neuronaux utilisés pour la régression ou approximation de fonction,les réseaux RBF peuvent apprendre à approximer la tendance sous-jacente à l'aide de nombreuses gaussiennes</p>\n",
    "</div>"
   ]
  },
  {
   "cell_type": "markdown",
   "id": "82cf25f8-643b-41db-9da6-bc113175b00b",
   "metadata": {},
   "source": [
    " <h2 style=\"font-family:Serif; color:#d63031; font-size:27px; margin-bottom:0\">Bibliographie  : </h2>\n",
    " <a style=\"font-family:Serif; font-size:17px;\" href=\"https://en.wikipedia.org/wiki/Radial_basis_function_interpolation\">Radial Basis Function</a>\n",
    "  <p style=\"font-family:Serif; font-size:17px;\">Documentation :<a style=\"font-family:Serif; font-size:17px;\" href=\"https://docs.scipy.org/doc/scipy/reference/generated/scipy.interpolate.Rbf.html\">scipy.interpolate.Rbf</a></p>"
   ]
  },
  {
   "cell_type": "code",
   "execution_count": null,
   "id": "24c01f75",
   "metadata": {},
   "outputs": [],
   "source": []
  }
 ],
 "metadata": {
  "kernelspec": {
   "display_name": "Python 3 (ipykernel)",
   "language": "python",
   "name": "python3"
  },
  "language_info": {
   "codemirror_mode": {
    "name": "ipython",
    "version": 3
   },
   "file_extension": ".py",
   "mimetype": "text/x-python",
   "name": "python",
   "nbconvert_exporter": "python",
   "pygments_lexer": "ipython3",
   "version": "3.9.7"
  }
 },
 "nbformat": 4,
 "nbformat_minor": 5
}
